{
 "cells": [
  {
   "cell_type": "code",
   "execution_count": null,
   "metadata": {},
   "outputs": [],
   "source": [
    "%load_ext autotime\n",
    "%load_ext autoreload\n",
    "\n",
    "%autoreload 2"
   ]
  },
  {
   "cell_type": "code",
   "execution_count": null,
   "metadata": {},
   "outputs": [],
   "source": [
    "import os, sys\n",
    "\n",
    "# add src for local imports\n",
    "# absolute_path = os.path.dirname(__file__)\n",
    "absolute_path = os.getcwd()\n",
    "relative_path = \"../../\"\n",
    "full_path = os.path.realpath(os.path.join(absolute_path, relative_path))\n",
    "sys.path.append(full_path)\n",
    "\n",
    "# import bot_interface modules\n",
    "from utils.common_imports import *\n",
    "# setup_http_proxy() # Note: try to use env variables if possible\n",
    "# load .env\n",
    "load_dot_env()\n",
    "\n",
    "from utils import milvus_helpers\n",
    "from utils.usecases import onesource_bot_helper\n",
    "\n",
    "embedding_func = onesource_bot_helper.get_default_embedding_func()\n",
    "search_index = milvus_helpers.AIAMilvus(\n",
    "    embedding_function=embedding_func,\n",
    "    connection_args=None, # use environment variables\n",
    "    collection_name = \"onesource\",\n",
    "    milvus_bypass_proxy=None, # use environment variables\n",
    ")\n",
    "\n",
    "site_ids = onesource_bot_helper.get_site_ids()\n",
    "\n",
    "if __name__ == \"__main__\":\n",
    "    q = 'who is ADT?'\n",
    "    res = onesource_bot_helper.answer_question_default_config(\n",
    "        query=q,\n",
    "        site_ids=site_ids,\n",
    "        search_index=search_index,\n",
    "    )\n",
    "    res['docs_obj'] = [{\n",
    "        'content': doc.page_content,\n",
    "        'metadata': doc.metadata,\n",
    "    } for doc in res['docs']]\n",
    "    print(res['response'])"
   ]
  },
  {
   "cell_type": "code",
   "execution_count": null,
   "metadata": {},
   "outputs": [],
   "source": [
    "import json\n",
    "# default=str to handle datetime\n",
    "print(json.dumps({k:v for k,v in res.items() if k not in ['docs']}, indent=2, default=str))"
   ]
  }
 ],
 "metadata": {
  "kernelspec": {
   "display_name": "bot-dev",
   "language": "python",
   "name": "python3"
  },
  "language_info": {
   "codemirror_mode": {
    "name": "ipython",
    "version": 3
   },
   "file_extension": ".py",
   "mimetype": "text/x-python",
   "name": "python",
   "nbconvert_exporter": "python",
   "pygments_lexer": "ipython3",
   "version": "3.10.10"
  }
 },
 "nbformat": 4,
 "nbformat_minor": 2
}
